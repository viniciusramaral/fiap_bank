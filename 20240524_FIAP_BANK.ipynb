{
  "nbformat": 4,
  "nbformat_minor": 0,
  "metadata": {
    "colab": {
      "provenance": []
    },
    "kernelspec": {
      "name": "python3",
      "display_name": "Python 3"
    },
    "language_info": {
      "name": "python"
    }
  },
  "cells": [
    {
      "cell_type": "markdown",
      "source": [
        "# FIAP BANK\n",
        "\n",
        "Desenvolvimento de um sistema para desenvolver habilidades em herança e polimorfismo.\n",
        "\n",
        "**O FIAP Bank** simula um banco no qual é possível emular as seguintes tarefas:\n",
        "\n",
        "**CRUD de usuários**\n",
        "\n",
        "1.   Gerentes\n",
        "2.   Correntistas\n",
        "\n",
        "Ambos carregam os dados de login e senha.\n",
        "\n",
        "**Contas**\n",
        "1.   Abrir\n",
        "2.   Fechar\n",
        "\n",
        "**Transações**\n",
        "\n",
        "1.   Transferências\n",
        "2.   Depósitos\n",
        "3.   Saques\n",
        "\n",
        "\n",
        "\n",
        "**Permissões**\n",
        "\n",
        "1.   Somente gerentes conseguem visualizar todas as contas.\n",
        "2.   Correntistas só podem ver a própria conta.\n",
        "\n",
        "\n",
        "Importante: Não usamos nenhum banco de dados para armazenar as transações.\n",
        "Todo o dicionário está armazenado em um arquivo JSON."
      ],
      "metadata": {
        "id": "qStxpYjbVPFE"
      }
    },
    {
      "cell_type": "code",
      "execution_count": null,
      "metadata": {
        "id": "8pENzAluSidX"
      },
      "outputs": [],
      "source": [
        "import json\n",
        "from abc import ABC, abstractmethod\n",
        "\n",
        "#Importação para administração da senha\n",
        "from getpass import getpass"
      ]
    },
    {
      "cell_type": "markdown",
      "source": [
        "# Classes de Usuários, Correntistas e Gerentes"
      ],
      "metadata": {
        "id": "2THKuU87TVXf"
      }
    },
    {
      "cell_type": "code",
      "source": [
        "class Usuario(ABC):\n",
        "    def __init__(self, usuario, senha):\n",
        "        self.usuario = usuario\n",
        "        self.senha = senha\n",
        "\n",
        "    @abstractmethod\n",
        "    def tipo(self):\n",
        "        pass\n",
        "\n",
        "class Correntista(Usuario):\n",
        "    def __init__(self, usuario, senha):\n",
        "        super().__init__(usuario, senha)\n",
        "        self.saldo = 0.0\n",
        "        self.transacoes = []\n",
        "\n",
        "    def tipo(self):\n",
        "        return \"Correntista\"\n",
        "\n",
        "class Gerente(Usuario):\n",
        "    def __init__(self, usuario, senha):\n",
        "        super().__init__(usuario, senha)\n",
        "\n",
        "    def tipo(self):\n",
        "        return \"Gerente\"\n"
      ],
      "metadata": {
        "id": "OzSbCTWATgUv"
      },
      "execution_count": null,
      "outputs": []
    },
    {
      "cell_type": "markdown",
      "source": [
        "# Classes do banco para gerenciar usuários e transações"
      ],
      "metadata": {
        "id": "9D6bcEjyTpwK"
      }
    },
    {
      "cell_type": "code",
      "source": [
        "class Banco:\n",
        "    def __init__(self, arquivo_dados):\n",
        "        self.arquivo_dados = arquivo_dados\n",
        "        self.usuarios = self.carregar_dados()\n",
        "\n",
        "    def carregar_dados(self):\n",
        "        try:\n",
        "            with open(self.arquivo_dados, 'r') as f:\n",
        "                return json.load(f)\n",
        "        except FileNotFoundError:\n",
        "            return {\"correntistas\": {}, \"gerentes\": {}}\n",
        "\n",
        "    def salvar_dados(self):\n",
        "        with open(self.arquivo_dados, 'w') as f:\n",
        "            json.dump(self.usuarios, f, indent=4)\n",
        "\n",
        "    def cadastrar_correntista(self, usuario, senha):\n",
        "        if usuario in self.usuarios[\"correntistas\"]:\n",
        "            print(\"Usuário já existe!\")\n",
        "        else:\n",
        "            self.usuarios[\"correntistas\"][usuario] = {\n",
        "                \"senha\": senha, \"saldo\": 0.0, \"transacoes\": []}\n",
        "            self.salvar_dados()\n",
        "            print(f\"Correntista {usuario} cadastrado com sucesso!\")\n",
        "\n",
        "    def cadastrar_gerente(self, usuario, senha):\n",
        "        if usuario in self.usuarios[\"gerentes\"]:\n",
        "            print(\"Usuário já existe!\")\n",
        "        else:\n",
        "            self.usuarios[\"gerentes\"][usuario] = {\"senha\": senha}\n",
        "            self.salvar_dados()\n",
        "            print(f\"Gerente {usuario} cadastrado com sucesso!\")\n",
        "\n",
        "    def autenticar(self, usuario, senha, tipo):\n",
        "        if tipo == \"Correntista\":\n",
        "            return usuario in self.usuarios[\"correntistas\"] and self.usuarios[\"correntistas\"][usuario][\"senha\"] == senha\n",
        "        elif tipo == \"Gerente\":\n",
        "            return usuario in self.usuarios[\"gerentes\"] and self.usuarios[\"gerentes\"][usuario][\"senha\"] == senha\n",
        "        return False\n",
        "\n",
        "    def verificar_saldo(self, usuario):\n",
        "        return self.usuarios[\"correntistas\"][usuario][\"saldo\"]\n",
        "\n",
        "    def depositar(self, usuario, valor):\n",
        "        self.usuarios[\"correntistas\"][usuario][\"saldo\"] += valor\n",
        "        self.usuarios[\"correntistas\"][usuario][\"transacoes\"].append(f\"Depósito de {valor}\")\n",
        "        self.salvar_dados()\n",
        "\n",
        "    def sacar(self, usuario, valor):\n",
        "        if self.usuarios[\"correntistas\"][usuario][\"saldo\"] >= valor:\n",
        "            self.usuarios[\"correntistas\"][usuario][\"saldo\"] -= valor\n",
        "            self.usuarios[\"correntistas\"][usuario][\"transacoes\"].append(f\"Saque de {valor}\")\n",
        "            self.salvar_dados()\n",
        "        else:\n",
        "            print(\"Saldo insuficiente.\")\n",
        "\n",
        "    def transferir(self, origem, destino, valor):\n",
        "        if origem in self.usuarios[\"correntistas\"] and destino in self.usuarios[\"correntistas\"]:\n",
        "            if self.usuarios[\"correntistas\"][origem][\"saldo\"] >= valor:\n",
        "                self.usuarios[\"correntistas\"][origem][\"saldo\"] -= valor\n",
        "                self.usuarios[\"correntistas\"][destino][\"saldo\"] += valor\n",
        "                self.usuarios[\"correntistas\"][origem][\"transacoes\"].append(f\"Transferência de {valor} para {destino}\")\n",
        "                self.usuarios[\"correntistas\"][destino][\"transacoes\"].append(f\"Transferência de {valor} de {origem}\")\n",
        "                self.salvar_dados()\n",
        "            else:\n",
        "                print(\"Saldo insuficiente.\")\n",
        "        else:\n",
        "            print(\"Conta de origem ou destino não encontrada.\")\n",
        "\n",
        "    def encerrar_conta(self, usuario):\n",
        "        if usuario in self.usuarios[\"correntistas\"]:\n",
        "            del self.usuarios[\"correntistas\"][usuario]\n",
        "            self.salvar_dados()\n",
        "            print(f\"Conta do correntista {usuario} encerrada com sucesso.\")\n",
        "        else:\n",
        "            print(\"Usuário não encontrado.\")\n",
        "\n",
        "    def listar_saldos_e_transacoes(self):\n",
        "        for usuario, dados in self.usuarios[\"correntistas\"].items():\n",
        "            print(f\"Usuário: {usuario}, Saldo: {dados['saldo']}\")\n",
        "            for transacao in dados[\"transacoes\"]:\n",
        "                print(f\"  - {transacao}\")\n"
      ],
      "metadata": {
        "id": "kL3O9ys8Txgv"
      },
      "execution_count": null,
      "outputs": []
    },
    {
      "cell_type": "code",
      "source": [
        "def main():\n",
        "    banco = Banco('banco_dados.json')\n",
        "\n",
        "    while True:\n",
        "        print(\"1. Cadastrar Correntista\")\n",
        "        print(\"2. Cadastrar Gerente\")\n",
        "        print(\"3. Login Correntista\")\n",
        "        print(\"4. Login Gerente\")\n",
        "        print(\"5. Sair\")\n",
        "        opcao = input(\"Escolha uma opção: \")\n",
        "\n",
        "        if opcao == \"1\":\n",
        "            usuario = input(\"Nome de usuário: \")\n",
        "            senha = getpass(\"Senha: \")\n",
        "            banco.cadastrar_correntista(usuario, senha)\n",
        "        elif opcao == \"2\":\n",
        "            usuario = input(\"Nome de usuário: \")\n",
        "            senha = getpass(\"Senha: \")\n",
        "            banco.cadastrar_gerente(usuario, senha)\n",
        "        elif opcao == \"3\":\n",
        "            usuario = input(\"Nome de usuário: \")\n",
        "            senha = getpass(\"Senha: \")\n",
        "            if banco.autenticar(usuario, senha, \"Correntista\"):\n",
        "                while True:\n",
        "                    print(f\"Bem-vindo, {usuario}\")\n",
        "                    print(\"1. Verificar Saldo\")\n",
        "                    print(\"2. Depositar\")\n",
        "                    print(\"3. Sacar\")\n",
        "                    print(\"4. Transferir\")\n",
        "                    print(\"5. Encerrar Conta\")\n",
        "                    print(\"6. Logout\")\n",
        "                    opcao_correntista = input(\"Escolha uma opção: \")\n",
        "                    if opcao_correntista == \"1\":\n",
        "                        print(f\"Seu saldo é: {banco.verificar_saldo(usuario)}\")\n",
        "                    elif opcao_correntista == \"2\":\n",
        "                        valor = float(input(\"Valor a depositar: \"))\n",
        "                        banco.depositar(usuario, valor)\n",
        "                    elif opcao_correntista == \"3\":\n",
        "                        valor = float(input(\"Valor a sacar: \"))\n",
        "                        banco.sacar(usuario, valor)\n",
        "                    elif opcao_correntista == \"4\":\n",
        "                        destino = input(\"Transferir para (usuário): \")\n",
        "                        valor = float(input(\"Valor a transferir: \"))\n",
        "                        banco.transferir(usuario, destino, valor)\n",
        "                    elif opcao_correntista == \"5\":\n",
        "                        confirmacao = input(\"Tem certeza que deseja encerrar a conta? (s/n): \")\n",
        "                        if confirmacao.lower() == 's':\n",
        "                            banco.encerrar_conta(usuario)\n",
        "                            break\n",
        "                    elif opcao_correntista == \"6\":\n",
        "                        break\n",
        "            else:\n",
        "                print(\"Usuário ou senha incorretos.\")\n",
        "        elif opcao == \"4\":\n",
        "            usuario = input(\"Nome de usuário: \")\n",
        "            senha = getpass(\"Senha: \")\n",
        "            if banco.autenticar(usuario, senha, \"Gerente\"):\n",
        "                while True:\n",
        "                    print(f\"Bem-vindo, {usuario} (Gerente)\")\n",
        "                    print(\"1. Listar Saldos e Transações\")\n",
        "                    print(\"2. Logout\")\n",
        "                    opcao_gerente = input(\"Escolha uma opção: \")\n",
        "                    if opcao_gerente == \"1\":\n",
        "                        banco.listar_saldos_e_transacoes()\n",
        "                    elif opcao_gerente == \"2\":\n",
        "                        break\n",
        "            else:\n",
        "                print(\"Usuário ou senha incorretos.\")\n",
        "        elif opcao == \"5\":\n",
        "            break\n",
        "\n",
        "if __name__ == \"__main__\":\n",
        "    main()\n"
      ],
      "metadata": {
        "id": "KIHvYrF4T99n"
      },
      "execution_count": null,
      "outputs": []
    },
    {
      "cell_type": "code",
      "source": [],
      "metadata": {
        "colab": {
          "base_uri": "https://localhost:8080/"
        },
        "id": "c_xcScWF9h4w",
        "outputId": "8847a363-264a-4258-8c6b-fe329a1e827d"
      },
      "execution_count": 8,
      "outputs": [
        {
          "output_type": "stream",
          "name": "stdout",
          "text": [
            "fatal: not a git repository (or any of the parent directories): .git\n"
          ]
        }
      ]
    }
  ]
}